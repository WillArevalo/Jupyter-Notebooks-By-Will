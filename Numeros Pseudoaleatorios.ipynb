{
 "cells": [
  {
   "cell_type": "markdown",
   "metadata": {},
   "source": [
    "# Numeros PseudoAleatorios\n",
    "* Cuadrados Medios\n",
    "* Productos Medios\n",
    "* Multiplicador Constante"
   ]
  },
  {
   "cell_type": "code",
   "execution_count": 5,
   "metadata": {},
   "outputs": [],
   "source": [
    "#Aux Funcs\n",
    "def init_arrays():\n",
    "    x_array = []\n",
    "    y_array = []\n",
    "    rand_array = []\n",
    "    return x_array,y_array,rand_array\n",
    "\n",
    "def input_seeds(seed0,seed1,quantity):\n",
    "    while(seed0 == 0 or seed1 == 0 or quantity == 0):\n",
    "            while(len(str(seed0))<4 or len(str(seed1))<4):\n",
    "                seed0 = int(input(\"Digita el numero semilla1(Min.4 digitos):\"))\n",
    "                seed1 = int(input(\"Digita el numero semilla2(Min.4 digitos):\"))\n",
    "                quantity = int(input(\"Digita la cantidad de numeros aleatorios que deseas:\"))\n",
    "                if(len(str(seed0))<34or len(str(seed1))<4 or quantity == 0):\n",
    "                    print(\"Has digitado algo mal, porfavor vuelve a intentarlo \\n\")\n",
    "    return(seed0,seed1,quantity)\n",
    "\n",
    "def find_mid(y,seed0):\n",
    "    if(len(str(y)) % 2 != 0):\n",
    "        y = \"0\" + str(y)\n",
    "    have = len(str(y))\n",
    "    need = len(str(seed0))\n",
    "    mid = int((have-need)/2)\n",
    "    x = str(y)[mid:-mid]\n",
    "    rand = float(\"0.\"+x)\n",
    "    return(x,rand)\n",
    "\n",
    "def append_lists(y_array,x_array,rand_array,y,x,rand):\n",
    "    y_array.append(y)\n",
    "    x_array.append(x)\n",
    "    rand_array.append(rand)\n",
    "    return(y_array,x_array,rand_array)\n",
    "\n",
    "def print_tables(quantity,y_array,x_array,rand_array):\n",
    "    print(\"#\\ty\\t\\t\\tx\\t\\tr\")\n",
    "    for i in range(quantity):\n",
    "        print(\"{iteration}\\t{y}\\t\\t{x}\\t\\t{r}\".format(\n",
    "            iteration=i+1,\n",
    "            y=y_array[i],\n",
    "            x=x_array[i],\n",
    "            r=rand_array[i]\n",
    "        ))"
   ]
  },
  {
   "cell_type": "code",
   "execution_count": 6,
   "metadata": {},
   "outputs": [],
   "source": [
    "class Nrand():\n",
    "    \"\"\"Numeros Pseudoaleatorios:\n",
    "    3 Methods:\n",
    "    - Cuadrados Medios\n",
    "    - Productos Medios\n",
    "    - Multiplicador Constante\n",
    "    \"\"\"\n",
    "    def CuadMed(seed0 = 0, quantity = 0):\n",
    "        \"\"\"Metodo de Cuadrados Medios:\n",
    "        Nrand.CuadMed(semilla, cantidad_de_numeros_aleatorios)\n",
    "        Is a number between 0 to 1, result mid numbers of seed squared\n",
    "        ex. \n",
    "        Nrand.CuadMed(4567,4)\n",
    "        result:\n",
    "        #\ty^2\t\tx\tr\n",
    "        1\t20857489\t8574\t0.8574\n",
    "        2\t73513476\t5134\t0.5134\n",
    "        3\t26357956\t3579\t0.3579\n",
    "        4\t12809241\t8092\t0.8092\n",
    "        \"\"\"\n",
    "        x_array,y_array,rand_array = init_arrays()\n",
    "        while(seed0 == 0 or quantity == 0):\n",
    "            while(len(str(seed0))<4):\n",
    "                seed0 = int(input(\"Digita el numero semilla(Min.4 digitos):\"))\n",
    "                quantity = int(input(\"Digita la cantidad de numeros aleatorios que deseas:\"))\n",
    "                if(len(str(seed0))<4 or quantity == 0):\n",
    "                    print(\"Has digitado algo mal, porfavor vuelve a intentarlo \\n\")\n",
    "        for i in range(quantity):\n",
    "            y = int(seed0)**2\n",
    "            if(len(str(y)) % 2 != 0):\n",
    "                y = \"0\" + str(y)\n",
    "            have = len(str(y))\n",
    "            need = len(str(seed0))\n",
    "            mid = int((have-need)/2)\n",
    "            x = str(y)[mid:-mid]\n",
    "            rand = float(\"0.\"+x)\n",
    "            y_array,x_array,rand_array = append_lists(y_array,x_array,rand_array,y,x,rand)\n",
    "            seed0 = x\n",
    "        print_tables(quantity,y_array,x_array,rand_array)\n",
    "            \n",
    "    def ProdMed(seed0 = 0,seed1 = 0,quantity = 0):\n",
    "        \"\"\"Metodo de Multiplicador Constante\n",
    "        Nrand.ProdMed(semilla1,semilla2,cantidad_de_numeros_aleatorios)\n",
    "        Is a number between 0 to 1, result mid numbers product between seed1 and seed2\n",
    "        ex.\n",
    "        Nrand.ProdMed(5015,5734,5)\n",
    "        result\n",
    "        #\ty\t\t\tx\t\tr\n",
    "        1\t28756010\t\t7560\t\t0.756\n",
    "        2\t43349040\t\t3490\t\t0.349\n",
    "        3\t26384400\t\t3844\t\t0.3844\n",
    "        4\t13415560\t\t4155\t\t0.4155\n",
    "        5\t15971820\t\t9718\t\t0.9718\n",
    "        \"\"\"\n",
    "        x_array,y_array,rand_array = init_arrays()\n",
    "        seed0,seed1,quantity = input_seeds(seed0,seed1,quantity)\n",
    "        for i in range(quantity):\n",
    "            y = int(seed0)*int(seed1)\n",
    "            x, rand = find_mid(y,seed0)\n",
    "            y_array,x_array,rand_array = append_lists(y_array,x_array,rand_array,y,x,rand)\n",
    "            seed0 = seed1\n",
    "            seed1 = x\n",
    "        print_tables(quantity,y_array,x_array,rand_array)\n",
    "        \n",
    "    def MulCons(seed0 = 0,seed1 = 0,quantity = 0):\n",
    "        \"\"\"Metodo de Productos Medios\n",
    "        Nrand.MulCons(semilla1,semilla2,cantidad_de_numeros_aleatorios)\n",
    "        Is a number between 0 to 1, result mid numbers product between seed1 and seed2 and after mid of number product between seed1 and x\n",
    "        ex.\n",
    "        Nrand.MulCons(6965,9803,5)\n",
    "        result\n",
    "        #\ty\t\t\tx\t\tr\n",
    "        1\t68277895\t\t2778\t\t0.2778\n",
    "        2\t19348770\t\t3487\t\t0.3487\n",
    "        3\t24286955\t\t2869\t\t0.2869\n",
    "        4\t19982585\t\t9825\t\t0.9825\n",
    "        5\t68431125\t\t4311\t\t0.4311\n",
    "        \"\"\"\n",
    "        x_array,y_array,rand_array = init_arrays()\n",
    "        seed0,seed1,quantity = input_seeds(seed0,seed1,quantity)\n",
    "        for i in range(quantity):\n",
    "            y = int(seed0)*int(seed1)\n",
    "            x, rand = find_mid(y,seed0)\n",
    "            y_array,x_array,rand_array = append_lists(y_array,x_array,rand_array,y,x,rand)\n",
    "            seed1 = x\n",
    "        print_tables(quantity,y_array,x_array,rand_array)    "
   ]
  },
  {
   "cell_type": "code",
   "execution_count": 4,
   "metadata": {},
   "outputs": [
    {
     "data": {
      "text/plain": [
       "\u001b[0;31mSignature:\u001b[0m \u001b[0mNrand\u001b[0m\u001b[0;34m.\u001b[0m\u001b[0mCuadMed\u001b[0m\u001b[0;34m(\u001b[0m\u001b[0mseed0\u001b[0m\u001b[0;34m=\u001b[0m\u001b[0;36m0\u001b[0m\u001b[0;34m,\u001b[0m \u001b[0mquantity\u001b[0m\u001b[0;34m=\u001b[0m\u001b[0;36m0\u001b[0m\u001b[0;34m)\u001b[0m\u001b[0;34m\u001b[0m\u001b[0m\n",
       "\u001b[0;31mDocstring:\u001b[0m\n",
       "Metodo de Cuadrados Medios:\n",
       "Nrand.CuadMed(semilla, cantidad_de_numeros_aleatorios)\n",
       "Is a number between 0 to 1, result mid numbers of seed squared\n",
       "ex. \n",
       "Nrand.CuadMed(4567,4)\n",
       "result:\n",
       "#       y^2             x       r\n",
       "1       20857489        8574    0.8574\n",
       "2       73513476        5134    0.5134\n",
       "3       26357956        3579    0.3579\n",
       "4       12809241        8092    0.8092\n",
       "\u001b[0;31mFile:\u001b[0m      ~/Documents/Modelacion/<ipython-input-3-4d2966309945>\n",
       "\u001b[0;31mType:\u001b[0m      function\n"
      ]
     },
     "metadata": {},
     "output_type": "display_data"
    }
   ],
   "source": [
    "Nrand.CuadMed()"
   ]
  },
  {
   "cell_type": "code",
   "execution_count": 40,
   "metadata": {},
   "outputs": [
    {
     "name": "stdout",
     "output_type": "stream",
     "text": [
      "#\ty\t\t\tx\t\tr\n",
      "1\t28756010\t\t7560\t\t0.756\n",
      "2\t43349040\t\t3490\t\t0.349\n",
      "3\t26384400\t\t3844\t\t0.3844\n",
      "4\t13415560\t\t4155\t\t0.4155\n",
      "5\t15971820\t\t9718\t\t0.9718\n"
     ]
    }
   ],
   "source": [
    "Nrand.ProdMed(5015,5734,5)"
   ]
  },
  {
   "cell_type": "code",
   "execution_count": 41,
   "metadata": {},
   "outputs": [
    {
     "name": "stdout",
     "output_type": "stream",
     "text": [
      "#\ty\t\t\tx\t\tr\n",
      "1\t68277895\t\t2778\t\t0.2778\n",
      "2\t19348770\t\t3487\t\t0.3487\n",
      "3\t24286955\t\t2869\t\t0.2869\n",
      "4\t19982585\t\t9825\t\t0.9825\n",
      "5\t68431125\t\t4311\t\t0.4311\n"
     ]
    }
   ],
   "source": [
    "Nrand.MulCons(6965,9803,5)"
   ]
  },
  {
   "cell_type": "code",
   "execution_count": 28,
   "metadata": {},
   "outputs": [
    {
     "name": "stdout",
     "output_type": "stream",
     "text": [
      "06031936\n",
      "06031936\n",
      "0319\n"
     ]
    },
    {
     "data": {
      "text/plain": [
       "0.0319"
      ]
     },
     "execution_count": 28,
     "metadata": {},
     "output_type": "execute_result"
    }
   ],
   "source": [
    "numerostr = str(2456)\n",
    "numcuad = int(numerostr)**2\n",
    "if(len(str(numcuad)) % 2 != 0):\n",
    "    numcuad = \"0\" + str(numcuad)\n",
    "print(numcuad)\n",
    "have = len(str(numcuad))\n",
    "need = len(str(numerostr))\n",
    "half = int((have-need)/2)\n",
    "print(numcuad)\n",
    "x = str(numcuad)[half:-half]\n",
    "print(x)\n",
    "flotante = float(\"0.\"+str(x))\n",
    "flotante"
   ]
  }
 ],
 "metadata": {
  "kernelspec": {
   "display_name": "Python 3",
   "language": "python",
   "name": "python3"
  },
  "language_info": {
   "codemirror_mode": {
    "name": "ipython",
    "version": 3
   },
   "file_extension": ".py",
   "mimetype": "text/x-python",
   "name": "python",
   "nbconvert_exporter": "python",
   "pygments_lexer": "ipython3",
   "version": "3.6.6"
  }
 },
 "nbformat": 4,
 "nbformat_minor": 2
}
